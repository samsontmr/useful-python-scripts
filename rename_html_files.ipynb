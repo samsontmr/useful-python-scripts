{
 "cells": [
  {
   "cell_type": "markdown",
   "metadata": {},
   "source": [
    "#  Script for copying and renaming html files in  TEAMMATES OSS"
   ]
  },
  {
   "cell_type": "code",
   "execution_count": 3,
   "metadata": {
    "collapsed": false
   },
   "outputs": [],
   "source": [
    "import shutil\n",
    "import glob\n",
    "\n",
    "for file in glob.glob('teammates/src/test/resources/pages/instructorFeedbackResultsSort*[!T][!e][!a][!m].html'):\n",
    "    shutil.copy2(file, 'temp')"
   ]
  },
  {
   "cell_type": "code",
   "execution_count": 4,
   "metadata": {
    "collapsed": true
   },
   "outputs": [],
   "source": [
    "for file in glob.glob('teammates/src/test/resources/pages/instructorFeedbackResultsSort*Team.html'):\n",
    "    shutil.copy2(file, 'temp_team')"
   ]
  },
  {
   "cell_type": "code",
   "execution_count": 6,
   "metadata": {
    "collapsed": false
   },
   "outputs": [],
   "source": [
    "import os\n",
    "\n",
    "for file in glob.glob('temp/instructorFeedbackResultsSort*[!T][!e][!a][!m].html'):\n",
    "    os.rename(file, file[:-5] + 'Team.html')"
   ]
  },
  {
   "cell_type": "code",
   "execution_count": 7,
   "metadata": {
    "collapsed": true
   },
   "outputs": [],
   "source": [
    "import os\n",
    "\n",
    "for file in glob.glob('temp_team/instructorFeedbackResultsSort*Team.html'):\n",
    "    os.rename(file, file[:-9] + '.html')"
   ]
  }
 ],
 "metadata": {
  "anaconda-cloud": {},
  "kernelspec": {
   "display_name": "Python [conda root]",
   "language": "python",
   "name": "conda-root-py"
  },
  "language_info": {
   "codemirror_mode": {
    "name": "ipython",
    "version": 3
   },
   "file_extension": ".py",
   "mimetype": "text/x-python",
   "name": "python",
   "nbconvert_exporter": "python",
   "pygments_lexer": "ipython3",
   "version": "3.5.2"
  }
 },
 "nbformat": 4,
 "nbformat_minor": 2
}
